{
 "cells": [
  {
   "cell_type": "code",
   "execution_count": 1,
   "id": "10eefc8d-5304-41f1-87cc-4afff290d92f",
   "metadata": {},
   "outputs": [],
   "source": [
    "C_END     = \"\\033[0m\"\n",
    "C_BOLD    = \"\\033[1m\"\n",
    "C_INVERSE = \"\\033[7m\"\n",
    " \n",
    "C_BLACK  = \"\\033[30m\"\n",
    "C_RED    = \"\\033[31m\"\n",
    "C_GREEN  = \"\\033[32m\"\n",
    "C_YELLOW = \"\\033[33m\"\n",
    "C_BLUE   = \"\\033[34m\"\n",
    "C_PURPLE = \"\\033[35m\"\n",
    "C_CYAN   = \"\\033[36m\"\n",
    "C_WHITE  = \"\\033[37m\"\n",
    " \n",
    "C_BGBLACK  = \"\\033[40m\"\n",
    "C_BGRED    = \"\\033[41m\"\n",
    "C_BGGREEN  = \"\\033[42m\"\n",
    "C_BGYELLOW = \"\\033[43m\"\n",
    "C_BGBLUE   = \"\\033[44m\"\n",
    "C_BGPURPLE = \"\\033[45m\"\n",
    "C_BGCYAN   = \"\\033[46m\"\n",
    "C_BGWHITE  = \"\\033[47m\"\n",
    "colors = [C_END,C_BOLD,C_INVERSE,C_BLACK,C_RED  ,C_GREEN  ,C_YELLOW,C_BLUE  ,C_PURPLE,C_CYAN  ,C_WHITE ,C_BGBLACK,  C_BGRED ,C_BGGREEN,C_BGYELLOW,C_BGBLUE  ,C_BGPURPLE,C_BGCYAN  ,C_BGWHITE ]\n",
    "\n",
    "import random\n",
    "\n",
    "def random_print():\n",
    "    front = random.sample(colors[1:],1)[0]\n",
    "    mid   = random.sample(colors[1:],1)[0]\n",
    "    last  = random.sample(colors[1:],1)[0]\n",
    "    final = colors[0]\n",
    "    print(front+'this is'+mid+' for'+last+' testing'+final)"
   ]
  },
  {
   "cell_type": "code",
   "execution_count": 2,
   "id": "7fc0c6d4-0a7d-4455-9ce3-b41c734e2e82",
   "metadata": {},
   "outputs": [
    {
     "name": "stdout",
     "output_type": "stream",
     "text": [
      "\u001b[30mthis is\u001b[35m for\u001b[47m testing\u001b[0m\n",
      "\u001b[1mthis is\u001b[47m for\u001b[34m testing\u001b[0m\n",
      "\u001b[33mthis is\u001b[40m for\u001b[34m testing\u001b[0m\n",
      "\u001b[43mthis is\u001b[34m for\u001b[34m testing\u001b[0m\n",
      "\u001b[40mthis is\u001b[42m for\u001b[1m testing\u001b[0m\n",
      "\u001b[30mthis is\u001b[32m for\u001b[7m testing\u001b[0m\n",
      "\u001b[46mthis is\u001b[30m for\u001b[30m testing\u001b[0m\n",
      "\u001b[45mthis is\u001b[40m for\u001b[43m testing\u001b[0m\n",
      "\u001b[32mthis is\u001b[45m for\u001b[34m testing\u001b[0m\n",
      "\u001b[35mthis is\u001b[44m for\u001b[43m testing\u001b[0m\n",
      "\u001b[31mthis is\u001b[37m for\u001b[7m testing\u001b[0m\n",
      "\u001b[35mthis is\u001b[43m for\u001b[44m testing\u001b[0m\n",
      "\u001b[44mthis is\u001b[37m for\u001b[40m testing\u001b[0m\n",
      "\u001b[47mthis is\u001b[42m for\u001b[37m testing\u001b[0m\n",
      "\u001b[1mthis is\u001b[35m for\u001b[47m testing\u001b[0m\n",
      "\u001b[47mthis is\u001b[30m for\u001b[41m testing\u001b[0m\n",
      "\u001b[43mthis is\u001b[33m for\u001b[7m testing\u001b[0m\n",
      "\u001b[43mthis is\u001b[30m for\u001b[1m testing\u001b[0m\n"
     ]
    }
   ],
   "source": [
    "import sys\n",
    "from PyQt5.QtWidgets import *\n",
    "from PyQt5 import uic\n",
    "\n",
    "form_class = uic.loadUiType(\"hello.ui\")[0]\n",
    "\n",
    "class MyWindow(QMainWindow, form_class):\n",
    "    def __init__(self):\n",
    "        super().__init__()\n",
    "        self.setupUi(self)\n",
    "        self.pushButton.clicked.connect(self.btn_clicked)\n",
    "        self.pushButton_2.clicked.connect(self.btn_print)\n",
    "        self.pushButton_3.clicked.connect(self.btn_print)\n",
    "    def btn_clicked(self):\n",
    "        QMessageBox.about(self, \"message\", \"clicked\")\n",
    "    def btn_print(self):\n",
    "        random_print()\n",
    "    # load value\n",
    "    # print value \n",
    "\n",
    "if __name__ == \"__main__\":\n",
    "    app = QApplication(sys.argv)\n",
    "    myWindow = MyWindow()\n",
    "    myWindow.show()\n",
    "    app.exec_()"
   ]
  }
 ],
 "metadata": {
  "kernelspec": {
   "display_name": "p36",
   "language": "python",
   "name": "p36"
  },
  "language_info": {
   "codemirror_mode": {
    "name": "ipython",
    "version": 3
   },
   "file_extension": ".py",
   "mimetype": "text/x-python",
   "name": "python",
   "nbconvert_exporter": "python",
   "pygments_lexer": "ipython3",
   "version": "3.6.13"
  },
  "widgets": {
   "application/vnd.jupyter.widget-state+json": {
    "state": {},
    "version_major": 2,
    "version_minor": 0
   }
  }
 },
 "nbformat": 4,
 "nbformat_minor": 5
}
